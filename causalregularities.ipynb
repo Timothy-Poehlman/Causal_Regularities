{
 "cells": [
  {
   "cell_type": "markdown",
   "metadata": {},
   "source": [
    "# Welcome to Jupyter!"
   ]
  },
  {
   "cell_type": "markdown",
   "metadata": {},
   "source": [
    "This repo contains an introduction to [Jupyter](https://jupyter.org) and [IPython](https://ipython.org).\n",
    "\n",
    "Outline of some basics:\n",
    "\n",
    "* [Notebook Basics](../examples/Notebook/Notebook%20Basics.ipynb)\n",
    "* [IPython - beyond plain python](../examples/IPython%20Kernel/Beyond%20Plain%20Python.ipynb)\n",
    "* [Markdown Cells](../examples/Notebook/Working%20With%20Markdown%20Cells.ipynb)\n",
    "* [Rich Display System](../examples/IPython%20Kernel/Rich%20Output.ipynb)\n",
    "* [Custom Display logic](../examples/IPython%20Kernel/Custom%20Display%20Logic.ipynb)\n",
    "* [Running a Secure Public Notebook Server](../examples/Notebook/Running%20the%20Notebook%20Server.ipynb#Securing-the-notebook-server)\n",
    "* [How Jupyter works](../examples/Notebook/Multiple%20Languages%2C%20Frontends.ipynb) to run code in different languages."
   ]
  },
  {
   "cell_type": "markdown",
   "metadata": {},
   "source": [
    "You can also get this tutorial and run it on your laptop:\n",
    "\n",
    "    git clone https://github.com/ipython/ipython-in-depth\n",
    "\n",
    "Install IPython and Jupyter:\n",
    "\n",
    "with [conda](https://www.anaconda.com/download):\n",
    "\n",
    "    conda install ipython jupyter\n",
    "\n",
    "with pip:\n",
    "\n",
    "    # first, always upgrade pip!\n",
    "    pip install --upgrade pip\n",
    "    pip install --upgrade ipython jupyter\n",
    "\n",
    "Start the notebook in the tutorial directory:\n",
    "\n",
    "    cd ipython-in-depth\n",
    "    jupyter notebook"
   ]
  },
  {
   "cell_type": "markdown",
   "metadata": {},
   "source": [
    "### Step -1 -- Setup:"
   ]
  },
  {
   "cell_type": "code",
   "execution_count": null,
   "metadata": {},
   "outputs": [],
   "source": []
  },
  {
   "cell_type": "markdown",
   "metadata": {},
   "source": [
    "### Step 0* -- Identification of potential effects:\n",
    "Given a coincidence list *C* over a factor frame {Z_1,...,Z_n}, identify the subset W {Z_1,...,Z_n} such that for every Z_i:Z_i in W iff\n",
    "\n",
    "> (1) The totality of available information as to the spatiotemporal ordering of the instances of the factors in {Z_1,...,Z_n} does not preclude Z_i to be an effect of the udnerlying causal structure.\n",
    "\n",
    "> (2) *C* does not contain two rows R*k* and R*l* such that Z_i is the only factor varying in the coincidences recorded by R*k* and R*l*.\n",
    " \n",
    "> (3) Z_i is a positive factor \n"
   ]
  },
  {
   "cell_type": "code",
   "execution_count": 6,
   "metadata": {},
   "outputs": [],
   "source": [
    "# For everything in W, we will have to test this\n",
    "# Over every factor, we are collecting the set of factors that are possible effects, this set is W\n",
    "# B: set of all factors, main_table: C\n",
    "def step0(main_table, B, FactorTable, NegFactorSet):\n",
    "    W = []\n",
    "    for factor in B:\n",
    "        #(1)\n",
    "        if -1: \n",
    "            continue\n",
    "        #(2)\n",
    "        elif rowDuplicity(main_table, FactorTable[factor]):\n",
    "            continue\n",
    "        #(3)\n",
    "        elif isNeg(FactorTable[factor], NegFactorSet):\n",
    "            continue\n",
    "        W.append(factor)\n",
    "    return W\n",
    "\n",
    "'''\n",
    "    Check if the same row but negative factor already exists, if not, insert into set, else return 1\n",
    "    int[i][j] table, i= coincidence, j = factor index\n",
    "'''\n",
    "def rowDuplicity(table, factor):\n",
    "    rowSet = {}\n",
    "    #loop through every row in table\n",
    "    for coincidence in table:\n",
    "        modif_coincidence = coincidence\n",
    "        modif_coincidence[factor] = !modif_coincidence[factor]\n",
    "        if modif_coincidence in row:\n",
    "            return 1\n",
    "        rowSet.add(coincidence)\n",
    "        \n",
    "def isNeg(factor):\n",
    "    if factor in NegFactorSet:\n",
    "        return 1\n",
    "    return 0"
   ]
  },
  {
   "cell_type": "markdown",
   "metadata": {},
   "source": [
    "### Step 1 -- Selection of potential effect:\n",
    "Randomly select one factor Z_i in W such that Z_i has not been selected in a previous run of steps 1-4.  Z_i is termed *effect*, the factors in {Z_1,...,Z_i-1,Z_i+1,...,Z_n} are referred to as *remainders*.\n",
    "\n"
   ]
  },
  {
   "cell_type": "code",
   "execution_count": null,
   "metadata": {},
   "outputs": [],
   "source": [
    "# Reference Step -1"
   ]
  },
  {
   "cell_type": "markdown",
   "metadata": {},
   "source": [
    "### Step 2 -- Identification of sufficient conditions:\n",
    "Identify all sufficient conditions of the effect Z_i according to the following rule:\n",
    "\n",
    "> (SUF) A coincidence X_k of remainders is *sufficient* for Z_i iff the input list *C* contains at least one row featuring X_k Z_i and no row featuring X_k !Z_i."
   ]
  },
  {
   "cell_type": "code",
   "execution_count": null,
   "metadata": {},
   "outputs": [],
   "source": [
    "'''\n",
    "table: int[][] : double array of 1/0\n",
    "factor: int : index of Z_i \n",
    "coincidence: X_k Z_i\n",
    "modif_coincidence: X_k !Z_i\n",
    "returns set of rows where coincidence X_k is sufficient for Z_i\n",
    "'''\n",
    "def step2(main_table, factor):\n",
    "    rowSet = {}\n",
    "    rowNegSet = {}\n",
    "    for coincidence in table:\n",
    "        \n",
    "        modif_coincidence = coincidence \n",
    "        modif_coincidence[factor] = !modif_coincidence[factor]\n",
    "        \n",
    "        if coincidence[factor]==1:   #if Z_i is true add to set of sufficient rows unless modif_coincidence is in the table\n",
    "            if modif_coincidence not in rowNegSet:\n",
    "                rowSet.add(coincidence)\n",
    "                \n",
    "        elif coincidence[factor]==0: #if Z_i is false remove modif_coincidence from sufficient rows\n",
    "            if modif_coincidence in rowSet:\n",
    "                rowSet.remove(coincidence)\n",
    "            rowNegSet.add(coincidence)\n",
    "    return rowSet"
   ]
  },
  {
   "cell_type": "markdown",
   "metadata": {},
   "source": [
    "### Step 3 -- Minimalization of sufficient conditions:\n",
    "The sufficient conditions of Z_i identified in step 2 are minimalized according to the following rule:\n",
    "\n",
    "> (MSUF) A sufficient condition Z_i,Z_2,...,Z_h of Z_i is *minimally* sufficient iff neither Z_2,Z_3,...,Z_h nor Z_1,Z_3,...Z_h nor... nor Z_1,Z_2,...,Z_h-1 are sufficient for Z_i according to (SUF).\n",
    "\n",
    "Or operationally put:\n",
    "> (MSUF') Given a sufficient condition Z_1,Z_2,...,Z_h of Z_i, for every Z_g in {Z_1,Z_2,...,Z_h}, h >= g >= 1, and every *h*-tuple {Z_i',Z_2',...,Z_h'} which is a permutation of the *h*-tuple {Z_1,Z_2,...,Z_h}: Eliminate Z_g from Z_1,Z_2,...,Z_h, and check whether Z_1,...,Z_g-1,Z_g+1,...Z_h !Z_i is contained in a row of *C*.  If that is the case, re-add Z_g to Z_1,...,Z_g-1,Z_g+1,...,Z_h and eliminate Z_g+1; if that is not the case, proceed to eliminate Z_g+1 without re-adding Z_g.  The result of performing this redundancy check on every factor contained in Z_1,Z_2,...,Z_h is a set of minimally sufficient conditions of Z-i."
   ]
  },
  {
   "cell_type": "code",
   "execution_count": null,
   "metadata": {},
   "outputs": [],
   "source": [
    "from itertools import permutations\n",
    "\n",
    "def step3(rowSet, main_table, effect)\n",
    "    for coincidence in rowSet:\n",
    "        prm_list = list(permutations(range(0,coincidence.length)))\n",
    "        # for every permutation of coincidence\n",
    "        for prm in prm_list:\n",
    "            #remove Z_g\n",
    "            for factor in prm:\n",
    "                #remove\n",
    "                removeprm()\n",
    "                #is remaining prm suff?\n",
    "                if !check_sufficient(coincidence, mod_prm, table, effect):\n",
    "                    addbackprm()\n",
    "                    \n",
    "# returns 1 if sufficient\n",
    "def check_sufficient(coincidence, prm, table, effect):\n",
    "    extravar = false\n",
    "    for row table:\n",
    "        var = true\n",
    "        for col in row:\n",
    "            if col.index is in prm:\n",
    "                if col == coincidence[col.index]:\n",
    "                    \n",
    "                else:\n",
    "                    var = false\n",
    "                    break\n",
    "        if var is true:\n",
    "            extravar = true\n",
    "            #in order for the original coincidence to be sufficient, its effect had to have been 1\n",
    "            if row[effect] == 0:\n",
    "                return 0\n",
    "    return extravar\n",
    "    "
   ]
  },
  {
   "cell_type": "markdown",
   "metadata": {},
   "source": [
    "### Step 4 -- (MSUF)-Loop:\n",
    "If all Z_i in W have been selected as effects proceed to step 5, otherwise go back to step 1."
   ]
  },
  {
   "cell_type": "code",
   "execution_count": null,
   "metadata": {},
   "outputs": [],
   "source": [
    "# Reference Step -1"
   ]
  },
  {
   "cell_type": "markdown",
   "metadata": {},
   "source": [
    "### Step 5 -- Identification of neccessary conditions:\n",
    "Identify a necessary condition of each effect Z_i by disjunctively concatenating Z_i's minimally sufficient conditions according to the following rule:\n",
    "\n",
    "> (NEC) A disjunction X_1 V X_2 V ... V X_h of minimally sufficient conditions of Z_i is *necessary* for Z_i iff *C* contains no row featuring Z_i **in combination** with -.(X_1 V X_2 V ... V X_h), i.e. no row comprising !(X_1 X_2 ... X_h)Z_i."
   ]
  },
  {
   "cell_type": "code",
   "execution_count": null,
   "metadata": {},
   "outputs": [],
   "source": [
    "def step5(main_table, s_conditions, s_prms, effect):\n",
    "    n_conditions = {}\n",
    "    for s_cond in s_conditions:\n",
    "        is_necessary = true\n",
    "        for row in main_table:\n",
    "            if row[effect] == 1:\n",
    "                for index in s_prms:\n",
    "                    if s_cond[index] != row[index]:\n",
    "                        is_necessary = false\n",
    "                        break\n",
    "                if !is_necessary:\n",
    "                    break\n",
    "        if is_necessary:\n",
    "            n_conditions.add(s_cond)\n",
    "    return n_conditions             "
   ]
  },
  {
   "cell_type": "markdown",
   "metadata": {},
   "source": [
    "### Step 6 -- Minimalization of necessary conditions:\n",
    "The necessary conditions of every Z_i in W identified in step 5 are minimalized accoreding to the following rule:\n",
    "\n",
    "> (MNEC) A necessary condition X_1 V X_2 V ... V X_h of Z_i is *minimally* necessary iff neither X_2 V X_3 V ... X_h nor X_1 V X_3 V ... X_h nor ... nor X_1 V X_2 V ... V X_h-1 are necessary for Z_i according to (NEC)\n",
    "\n",
    "or operationally put:\n",
    "\n",
    "> (MNEC') Given a necessary condition X_1 V X_2 V ... V X_h of Z_i, for every X_g in {X_1, X_2, ..., X_h}, h >= g >= 1, and every *h*-tuple {X_1', X_2', ..., X_h'}: Eliminate X_g from X_1 V X_2 V ... V X_h and check whether there is a row in *C* featuring Z_i in combination with -.(X_i V ... V X_g-1 V X_g+1 V ... V X_h), i.e. a row comprising !(X_1...X_g-1 X_g+1...X_h)Z_i.  If that is the case, re-add X_g to X_1 V ... V X_g-1 V X_g+1 V ... X_h and eliminate X_g+1l if that is not the case, rpoceed to eliminate X_g+1 without re-adding X_g.  The result of performing this redundancy check on every minimally sufficient condition contained in X_1 V X_2 V ... V X_h is a set of minimally nececssary conditions of Z_i."
   ]
  },
  {
   "cell_type": "code",
   "execution_count": null,
   "metadata": {},
   "outputs": [],
   "source": [
    "from itertools import permutations\n",
    "\n",
    "def step6(rowSet, main_table, effect)\n",
    "    for coincidence in rowSet:\n",
    "        prm_list = list(permutations(range(0,coincidence.length)))\n",
    "        # for every permutation of coincidence\n",
    "        for prm in prm_list:\n",
    "            #remove Z_g\n",
    "            for factor in prm:\n",
    "                #remove\n",
    "                removeprm()\n",
    "                #is remaining prm suff?\n",
    "                if !check_necessary(table, coincidence, mod_prm, effect):\n",
    "                    addbackprm()\n",
    "                    \n",
    "def check_necessary(main_table, coincidence, prm, effect):\n",
    "    for row in main_table:\n",
    "        if row[effect] == 1:\n",
    "            for index in prm:\n",
    "                if coincidence[index] != row[index]:\n",
    "                    return false\n",
    "    return true"
   ]
  },
  {
   "cell_type": "markdown",
   "metadata": {},
   "source": [
    "### Step 7 -- Framing minimal theories:\n",
    "The minimally necessary disjunctions of minimally sufficient conditions of each Z_i in W identified in step 6 are assembled to minimal theories as follows:\n",
    "\n",
    "> (1) For each Z_i in W and each minimally necessary disjunction X_1 V X_2 V ... V X_h, h>=2, of minimally sufficient conditions of Z_i: Form a simple minimal theory psi of Z_i by making X_1 V X_2 V ... V X_h the antecedent of a double-conditional and Z_i is consequent: X_1 V X_2 V ... V X_h => Z_i.\n",
    "\n",
    "> (2) Conjunctively combine two simple minimal theories phi and psi to the complex minimal theory phi ^ psi iff phi and psi conform to the following conditions:\n",
    "\n",
    "> > (a) at least one factor in phi is part of psi;\n",
    "\n",
    "> > (b) phi and psi do not have an identical consequent.\n",
    "\n",
    "*note: V and ^ are used as Union and Intersect respectively*"
   ]
  },
  {
   "cell_type": "code",
   "execution_count": null,
   "metadata": {},
   "outputs": [],
   "source": []
  },
  {
   "cell_type": "markdown",
   "metadata": {},
   "source": [
    "### Step 8* -- Causal interpretation:\n",
    "Disjuncts in the antecedent of simple minimal theories are to be interpreted as alternative (complex) causes of the factor in the consequent.  Conjuncts constituting such disjuncts correspond to non-redundant parts of complex causes.  Triples of factors (Z_h, Z_i, Z_j), such that Z_h appears in the antecedent of a minimal theory of Z_i and Z_i is part of a minimal theory of Z_j are to be interpreted as causal chains."
   ]
  },
  {
   "cell_type": "code",
   "execution_count": null,
   "metadata": {},
   "outputs": [],
   "source": []
  }
 ],
 "metadata": {
  "kernelspec": {
   "display_name": "Python 2",
   "language": "python",
   "name": "python2"
  },
  "language_info": {
   "codemirror_mode": {
    "name": "ipython",
    "version": 2
   },
   "file_extension": ".py",
   "mimetype": "text/x-python",
   "name": "python",
   "nbconvert_exporter": "python",
   "pygments_lexer": "ipython2",
   "version": "2.7.17"
  }
 },
 "nbformat": 4,
 "nbformat_minor": 2
}
